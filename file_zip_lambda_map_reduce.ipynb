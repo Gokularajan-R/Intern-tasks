{
  "cells": [
    {
      "cell_type": "markdown",
      "metadata": {
        "id": "view-in-github",
        "colab_type": "text"
      },
      "source": [
        "<a href=\"https://colab.research.google.com/github/gulugulu2042/Intern-tasks/blob/main/file_zip_lambda_map_reduce.ipynb\" target=\"_parent\"><img src=\"https://colab.research.google.com/assets/colab-badge.svg\" alt=\"Open In Colab\"/></a>"
      ]
    },
    {
      "cell_type": "markdown",
      "metadata": {
        "id": "m7kT952A572B"
      },
      "source": [
        "# File Handling\n",
        "\n",
        "File handling in Python allows you to create, read, write, and delete files. Python provides several built-in functions to handle files, such as `open()`, `read()`, `write()`, and `close()`.\n",
        "\n",
        "The `open()` function is used to open a file, which returns a file object. You can specify the mode to open the file, such as:\n",
        "\n",
        "- `'r'`: Read mode (default)\n",
        "- `'w'`: Write mode (creates a new file if it does not exist)\n",
        "- `'a'`: Append mode (adds content to the end of the file)\n",
        "- `'b'`: Binary mode (e.g., images)\n",
        "\n",
        "Example:\n",
        "```python\n",
        "# Writing to a file\n",
        "with open('example.txt', 'w') as file:\n",
        "    file.write('Hello, world!')\n",
        "\n",
        "# Reading from a file\n",
        "with open('example.txt', 'r') as file:\n",
        "    content = file.read()\n",
        "    print(content)\n",
        "```\n",
        "The `with` statement is used to handle the file without the need to explicitly call `close()`.\n",
        "\n",
        "### Questions:\n",
        "1. How do you open a file in write mode?\n",
        "2. What is the purpose of the `'b'` mode?\n",
        "3. What is the difference between `'w'` and `'a'` modes?\n",
        "4. How can you read the entire contents of a file?\n",
        "5. What does the `with` statement do in file handling?\n",
        "6. Write a Python program to create a text file named sample.txt, write a few lines to it, and then read and display the contents.\n",
        "8. Write a program that counts the number of words in a file provided by the user.\n",
        "9. Create a program that reads a file and prints only the lines that contain a specific keyword.\n",
        "10. Write a program that copies the contents of one file to another.\n",
        "11. Write a program to append a list of items to an existing file."
      ]
    },
    {
      "cell_type": "markdown",
      "metadata": {
        "id": "By6oTli3572F"
      },
      "source": [
        "# Lambda Functions\n",
        "\n",
        "Lambda functions are small anonymous functions defined using the `lambda` keyword. They can have any number of arguments but only one expression. They are typically used when you need a simple function for a short period of time.\n",
        "\n",
        "Syntax:\n",
        "```python\n",
        "lambda arguments: expression\n",
        "```\n",
        "\n",
        "Example:\n",
        "```python\n",
        "# Lambda function to add two numbers\n",
        "add = lambda x, y: x + y\n",
        "print(add(2, 3))  # Output: 5\n",
        "```\n",
        "\n",
        "Lambda functions are often used with functions like `map()`, `filter()`, etc.\n",
        "\n",
        "### Questions:\n",
        "1. What is a lambda function?\n",
        "2. How do lambda functions differ from regular functions?\n",
        "3. Can lambda functions have more than one expression?\n",
        "4. Write a lambda function to find the square of a number.\n",
        "5. How can you use a lambda function with `map()`?\n",
        "6. Write a lambda function to multiply two numbers and test it.\n",
        "7. Create a lambda function to check if a number is even or odd.\n",
        "8. Write a lambda function that takes a list of strings and returns the lengths of those strings.\n",
        "9. Use a lambda function to sort a list of tuples by the second element.\n",
        "10. Write a lambda function that returns the maximum of two numbers."
      ]
    },
    {
      "cell_type": "code",
      "source": [
        "#1. A single expression function\n",
        "#2. Only one expression, no name unless assigned, and retrurn is implicit - no need of return keyword\n",
        "#3. no\n",
        "\n",
        "#4.\n",
        "sq = lambda x:x**2\n",
        "print(sq(5))\n",
        "\n",
        "#5. Pass lambda function as the function to be applied in the iterable.\n",
        "#example:\n",
        "numbers = [1, 2, 3, 4, 5]\n",
        "squared = list(map(lambda x: x**2, numbers))\n",
        "print(squared)\n",
        "\n",
        "#6.\n",
        "mul = lambda x,y: x*y\n",
        "print(mul(9,3))\n",
        "\n",
        "#7.\n",
        "chk = lambda x : \"Even\" if x%2==0 else \"Odd\"\n",
        "print(chk(5))\n",
        "\n",
        "#8.\n",
        "x = lambda i: len(i)\n",
        "strs = [\"abc\", \"defg\", \"hijkl\"]\n",
        "lengths = [x(i) for i in strs]\n",
        "print(lengths)\n",
        "\n",
        "#9.\n",
        "key = lambda x: x[1]\n",
        "lis = [(1,2,3),(23,4,9),(1,0,8,12)]\n",
        "lis.sort(key=key)\n",
        "print(lis)\n",
        "\n",
        "#10.\n",
        "max = lambda x,y: x if x>y else y\n",
        "print(max(2,5))"
      ],
      "metadata": {
        "colab": {
          "base_uri": "https://localhost:8080/"
        },
        "id": "YOamBkkwEfTt",
        "outputId": "30c4e8fa-d6a8-4bec-a3aa-9cff6e087027"
      },
      "execution_count": 5,
      "outputs": [
        {
          "output_type": "stream",
          "name": "stdout",
          "text": [
            "25\n",
            "[1, 4, 9, 16, 25]\n",
            "27\n",
            "Odd\n",
            "[3, 4, 5]\n",
            "[(1, 0, 8, 12), (1, 2, 3), (23, 4, 9)]\n",
            "5\n"
          ]
        }
      ]
    },
    {
      "cell_type": "markdown",
      "metadata": {
        "id": "esL744WO572G"
      },
      "source": [
        "# Map Function\n",
        "\n",
        "The `map()` function applies a given function to all items in an input list (or any iterable) and returns an iterator with the results. This is very useful when you need to perform the same operation on each element of a list.\n",
        "\n",
        "Syntax:\n",
        "```python\n",
        "map(function, iterable)\n",
        "```\n",
        "\n",
        "Example:\n",
        "```python\n",
        "# Squaring each element in a list\n",
        "numbers = [1, 2, 3, 4]\n",
        "squares = list(map(lambda x: x ** 2, numbers))\n",
        "print(squares)  # Output: [1, 4, 9, 16]\n",
        "```\n",
        "\n",
        "### Questions:\n",
        "1. What is the purpose of the `map()` function?\n",
        "2. Can `map()` work with multiple iterables?\n",
        "3. Write a `map()` function to convert a list of strings to uppercase.\n",
        "4. What is the output of `list(map(lambda x: x * 2, [1, 2, 3]))`?\n",
        "5. Can `map()` return something other than a list?\n",
        "6. Use `map()` to create a new list containing the cubes of all numbers from 1 to 10.\n",
        "7. Write a program that uses `map()` to convert a list of Celsius temperatures to Fahrenheit.\n",
        "8. Use `map()` with a lambda function to concatenate the corresponding elements of two lists of strings.\n",
        "9. Create a program that uses `map()` to convert a list of integers into their binary string representation.\n",
        "10. Use `map()` to add two lists element-wise, where both lists have the same length."
      ]
    },
    {
      "cell_type": "code",
      "source": [
        "#1. To apply a function onto every element of an iterable\n",
        "#2. yes\n",
        "\n",
        "#3.\n",
        "lis = [\"abc\", \"defg\", \"hijkl\"]\n",
        "upper = list(map(lambda x: x.upper(), lis))\n",
        "print(upper)\n",
        "\n",
        "#4. [2,4,6]\n",
        "#5. map always returns a map object which can be converted into a list/tuple\n",
        "\n",
        "#6.\n",
        "cubes = list(map(lambda x: x**3, range(1,11)))\n",
        "print(cubes)\n",
        "\n",
        "#7.\n",
        "celsius = [0, 10, 20, 30, 40]\n",
        "fahrenheit = list(map(lambda x: (x * 9/5) + 32, celsius))\n",
        "print(fahrenheit)\n",
        "\n",
        "#8.\n",
        "list1 = [\"1\", \"2\", \"3\"]\n",
        "list2 = [\"4\", \"5\", \"6\"]\n",
        "concat = list(map(lambda x,y: x+y, list1, list2))\n",
        "print(concat)\n",
        "\n",
        "#9.\n",
        "x = [i for i in range(1,6)]\n",
        "binary = list(map(lambda x: bin(x), x))\n",
        "print(binary)\n",
        "\n",
        "#10.\n",
        "list1 = [2, 6, 9]\n",
        "list2 = [1, 0, 8]\n",
        "res = list(map(lambda x,y: x+y, list1, list2))\n",
        "print(res)"
      ],
      "metadata": {
        "colab": {
          "base_uri": "https://localhost:8080/"
        },
        "id": "zS7uaJ-tHZSa",
        "outputId": "a9561b9e-77f0-480a-d34f-078f815115c8"
      },
      "execution_count": 9,
      "outputs": [
        {
          "output_type": "stream",
          "name": "stdout",
          "text": [
            "['ABC', 'DEFG', 'HIJKL']\n",
            "[1, 8, 27, 64, 125, 216, 343, 512, 729, 1000]\n",
            "[32.0, 50.0, 68.0, 86.0, 104.0]\n",
            "['14', '25', '36']\n",
            "['0b1', '0b10', '0b11', '0b100', '0b101']\n",
            "[3, 6, 17]\n"
          ]
        }
      ]
    },
    {
      "cell_type": "markdown",
      "metadata": {
        "id": "BRawYyXb572H"
      },
      "source": [
        "# Reduce Function\n",
        "\n",
        "The `reduce()` function, which is part of the `functools` module, applies a function cumulatively to the items of an iterable, from left to right, so as to reduce the iterable to a single value.\n",
        "\n",
        "Syntax:\n",
        "```python\n",
        "from functools import reduce\n",
        "reduce(function, iterable)\n",
        "```\n",
        "\n",
        "Example:\n",
        "```python\n",
        "from functools import reduce\n",
        "\n",
        "# Summing all elements in a list\n",
        "numbers = [1, 2, 3, 4]\n",
        "total = reduce(lambda x, y: x + y, numbers)\n",
        "print(total)  # Output: 10\n",
        "```\n",
        "\n",
        "### Questions:\n",
        "1. What is the purpose of the `reduce()` function?\n",
        "2. How is `reduce()` different from `map()`?\n",
        "3. Write a `reduce()` function to multiply all elements in a list.\n",
        "4. What is the output of `reduce(lambda x, y: x * y, [1, 2, 3, 4])`?\n",
        "5. Why do we need to import `functools` for `reduce()`?\n",
        "6. Use `reduce()` to find the product of all elements in a list.\n",
        "7. Write a program using `reduce()` to find the longest string in a list of strings.\n",
        "8. Use `reduce()` to find the factorial of a number `(e.g., 5!)`.\n",
        "9. Write a program that uses `reduce()` to concatenate a list of strings into a single string, separated by spaces.\n",
        "10. Use `reduce()` to find the greatest common divisor `(GCD)` of a list of numbers."
      ]
    },
    {
      "cell_type": "code",
      "source": [
        "#1. applies a function cumulatively on an iterable\n",
        "#2. map() applies a function to each element independently, thus giving a sequence of outputs\n",
        "#     reduce() applies a function cumulatively, and gives a single output\n",
        "\n",
        "#3.\n",
        "from functools import reduce\n",
        "mul = reduce(lambda x,y: x*y, [1,2,3,4])\n",
        "print(mul)\n",
        "\n",
        "#4. 24\n",
        "\n",
        "#5. reduce is a function in the functools package\n",
        "\n",
        "#6.\n",
        "mul = reduce(lambda x,y: x*y, [1,2,3,4])\n",
        "print(mul)\n",
        "\n",
        "#7.\n",
        "lis = [\"abc\", \"defg\", \"hijkl\"]\n",
        "longest = reduce(lambda x,y: x if len(x)>len(y) else y, lis)\n",
        "print(longest)\n",
        "\n",
        "#8.\n",
        "n=5\n",
        "fact = reduce(lambda x,y: x*y, range(1,n+1))\n",
        "print(fact)\n",
        "\n",
        "#9.\n",
        "lis = [\"abc\", \"defg\", \"hijkl\"]\n",
        "concat = reduce(lambda x,y: x+\" \"+y, lis)\n",
        "print(concat)\n",
        "\n",
        "#10.\n",
        "lis = [50,15,200]\n",
        "gcd = lambda x,y: x if y==0 else gcd(y, x%y)\n",
        "res = reduce(gcd, lis)\n",
        "print(res)"
      ],
      "metadata": {
        "colab": {
          "base_uri": "https://localhost:8080/"
        },
        "id": "SqPteQFYRqRF",
        "outputId": "510ae762-e403-4b5b-b625-6da46cafbda7"
      },
      "execution_count": 18,
      "outputs": [
        {
          "output_type": "stream",
          "name": "stdout",
          "text": [
            "24\n",
            "24\n",
            "hijkl\n",
            "120\n",
            "abc defg hijkl\n",
            "5\n"
          ]
        }
      ]
    },
    {
      "cell_type": "markdown",
      "metadata": {
        "id": "DyWwEaox572I"
      },
      "source": [
        "# Filter Function\n",
        "\n",
        "The `filter()` function is used to filter elements from an iterable based on a function that returns `True` or `False`. It returns an iterator containing only the elements that satisfy the condition.\n",
        "\n",
        "Syntax:\n",
        "```python\n",
        "filter(function, iterable)\n",
        "```\n",
        "\n",
        "Example:\n",
        "```python\n",
        "# Filtering even numbers from a list\n",
        "numbers = [1, 2, 3, 4, 5, 6]\n",
        "evens = list(filter(lambda x: x % 2 == 0, numbers))\n",
        "print(evens)  # Output: [2, 4, 6]\n",
        "```\n",
        "\n",
        "### Questions:\n",
        "1. What does the `filter()` function do?\n",
        "2. How is `filter()` different from `map()`?\n",
        "3. Write a `filter()` function to find all numbers greater than 10 in a list.\n",
        "4. What is the output of `list(filter(lambda x: x > 3, [1, 2, 3, 4, 5]))`?\n",
        "5. Can `filter()` work without a function?\n",
        "6. Write a program that uses `filter()` to find all the even numbers in a list.\n",
        "7. Use `filter()` to extract all strings from a list that have a length greater than 5.\n",
        "8. Create a program that uses `filter()` to return all elements in a list that are prime numbers.\n",
        "9. Use `filter()` to get all strings from a list that start with the letter 'A'.\n",
        "10. Write a program using `filter()` to get all numbers in a list that are divisible by both 3 and 5."
      ]
    },
    {
      "cell_type": "code",
      "source": [
        "#1. Applies a condition to an iterable\n",
        "#2. Map applies a function that can have any return type, filter applies a condition that returns bool\n",
        "\n",
        "#3.\n",
        "print(list(filter(lambda x: x>10, [i for i in range(0,20,3)])))\n",
        "\n",
        "#4. [4,5]\n",
        "\n",
        "#5. no\n",
        "\n",
        "#6.\n",
        "numbers = [1, 2, 3, 4, 5, 6]\n",
        "evens = list(filter(lambda x: x % 2 == 0, numbers))\n",
        "print(evens)\n",
        "\n",
        "#7.\n",
        "lis = [\"abc\", \"defg\", \"hijklmno\"]\n",
        "print(list(filter(lambda x: len(x)>5, lis)))\n",
        "\n",
        "#8.\n",
        "def is_prime(n):\n",
        "    if n <= 1:\n",
        "        return False\n",
        "    for i in range(2, int(n**0.5) + 1):\n",
        "        if n % i == 0:\n",
        "            return False\n",
        "    return True\n",
        "print(list(filter(is_prime, range(1,20))))\n",
        "\n",
        "#9.\n",
        "lis = [\"abc\", \"defg\", \"hijklmno\"]\n",
        "print(list(filter(lambda x: x[0]=='a', lis)))\n",
        "\n",
        "#10.\n",
        "lis = [i for i in range(50)]\n",
        "print(list(filter(lambda x:x%3==0 and x%5 == 0, lis)))"
      ],
      "metadata": {
        "colab": {
          "base_uri": "https://localhost:8080/"
        },
        "id": "h0ZJsnG6YLda",
        "outputId": "381aa6c7-e3da-4dbe-a0db-a0647459ae50"
      },
      "execution_count": 34,
      "outputs": [
        {
          "output_type": "stream",
          "name": "stdout",
          "text": [
            "[12, 15, 18]\n",
            "[2, 4, 6]\n",
            "['hijklmno']\n",
            "[2, 3, 5, 7, 11, 13, 17, 19]\n",
            "['abc']\n",
            "[0, 15, 30, 45]\n"
          ]
        }
      ]
    },
    {
      "cell_type": "markdown",
      "metadata": {
        "id": "ZKKQdl_s572I"
      },
      "source": [
        "# Zip Function\n",
        "\n",
        "The `zip()` function combines two or more iterables (e.g., lists or tuples) element-wise, creating an iterator of tuples. Each tuple contains elements from the corresponding position of each iterable.\n",
        "\n",
        "Syntax:\n",
        "```python\n",
        "zip(iterable1, iterable2, ...)\n",
        "```\n",
        "\n",
        "Example:\n",
        "```python\n",
        "# Zipping two lists\n",
        "names = ['Alice', 'Bob', 'Charlie']\n",
        "ages = [25, 30, 35]\n",
        "combined = list(zip(names, ages))\n",
        "print(combined)  # Output: [('Alice', 25), ('Bob', 30), ('Charlie', 35)]\n",
        "```\n",
        "\n",
        "### Questions:\n",
        "1. What does the `zip()` function do?\n",
        "2. What happens if the iterables passed to `zip()` have different lengths?\n",
        "3. Write a `zip()` function to combine three lists.\n",
        "4. Can `zip()` be used to unzip a list of tuples?\n",
        "5. What is the output of `list(zip([1, 2], ['a', 'b']))`?\n",
        "6. Use zip() to combine two lists into a dictionary, where one list contains keys and the other contains values.\n",
        "7. Write a program that uses zip() to combine three lists (names, ages, and cities) into a list of tuples.\n",
        "8. Use zip() to add corresponding elements of two matrices represented as nested lists.\n",
        "9. Create a program using zip() that combines two lists of unequal lengths and handles the missing elements by adding None.\n",
        "10. Write a program to unzip a list of tuples into separate lists."
      ]
    },
    {
      "cell_type": "code",
      "source": [
        "#1. merge iterables into an iterator of tuples that can be unpacked\n",
        "#2. truncate at length of smallest iterable passed\n",
        "\n",
        "#3.\n",
        "a = [1,2,3]\n",
        "b = ['a', 'b', 'c']\n",
        "c = [True, False, True]\n",
        "print(list(zip(a,b,c)))\n",
        "\n",
        "\n",
        "#4. yes, use *\n",
        "#5. [(1,'a'), (2,'b')]\n",
        "\n",
        "#6.\n",
        "lis1 = [\"a\", \"b\", \"c\"]\n",
        "lis2 = [1,2,3]\n",
        "dic_1 = {i:j for i,j in zip(lis1,lis2)}\n",
        "print(dic_1)\n",
        "\n",
        "#7.\n",
        "names = [\"gokul\", \"yuva\", \"ayush\"]\n",
        "ages = [20, 21, 19]\n",
        "cities = [\"chennai\", \"trichy\", \"bangalore\"]\n",
        "lis = list(zip(names, ages, cities))\n",
        "print(lis)\n",
        "\n",
        "#8.\n",
        "mat1 = [[1,2,3], [4,5,6], [7,8,9]]\n",
        "mat2 = [[1,2,3], [4,5,6], [7,8,9]]\n",
        "\n",
        "mat3 = [[a + b for a, b in zip(row_A, row_B)] for row_A, row_B in zip(mat1, mat2)]\n",
        "print(mat3)\n",
        "\n",
        "#9.\n",
        "lis1 = [\"a\", \"b\", \"c\", \"d\"]\n",
        "lis2 = [1,2,3]\n",
        "\n",
        "lis1 = lis1 + [None] * (len(lis2) - len(lis1))\n",
        "lis2 = lis2 + [None] * (len(lis1) - len(lis2))\n",
        "\n",
        "res = list(zip(lis1, lis2))\n",
        "print(res)\n",
        "\n",
        "#10.\n",
        "n,a,c = zip(*lis)\n",
        "n = list(n)\n",
        "a = list(a)\n",
        "c = list(c)\n",
        "print(n,a,c)"
      ],
      "metadata": {
        "colab": {
          "base_uri": "https://localhost:8080/"
        },
        "id": "K5_EVfURUFHn",
        "outputId": "b7399e6e-306c-46ef-f424-c74700b4bf92"
      },
      "execution_count": 28,
      "outputs": [
        {
          "output_type": "stream",
          "name": "stdout",
          "text": [
            "[(1, 'a', True), (2, 'b', False), (3, 'c', True)]\n",
            "{'a': 1, 'b': 2, 'c': 3}\n",
            "[('gokul', 20, 'chennai'), ('yuva', 21, 'trichy'), ('ayush', 19, 'bangalore')]\n",
            "[[2, 4, 6], [8, 10, 12], [14, 16, 18]]\n",
            "[('a', 1), ('b', 2), ('c', 3), ('d', None)]\n",
            "['gokul', 'yuva', 'ayush'] [20, 21, 19] ['chennai', 'trichy', 'bangalore']\n"
          ]
        }
      ]
    }
  ],
  "metadata": {
    "kernelspec": {
      "display_name": "Python 3",
      "language": "python",
      "name": "python3"
    },
    "language_info": {
      "name": "python",
      "version": "3.8.0"
    },
    "colab": {
      "provenance": [],
      "include_colab_link": true
    }
  },
  "nbformat": 4,
  "nbformat_minor": 0
}