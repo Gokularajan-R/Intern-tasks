{
  "cells": [
    {
      "cell_type": "markdown",
      "metadata": {
        "id": "view-in-github",
        "colab_type": "text"
      },
      "source": [
        "<a href=\"https://colab.research.google.com/github/gulugulu2042/Intern-tasks/blob/main/file_zip_lambda_map_reduce.ipynb\" target=\"_parent\"><img src=\"https://colab.research.google.com/assets/colab-badge.svg\" alt=\"Open In Colab\"/></a>"
      ]
    },
    {
      "cell_type": "markdown",
      "metadata": {
        "id": "m7kT952A572B"
      },
      "source": [
        "# File Handling\n",
        "\n",
        "File handling in Python allows you to create, read, write, and delete files. Python provides several built-in functions to handle files, such as `open()`, `read()`, `write()`, and `close()`.\n",
        "\n",
        "The `open()` function is used to open a file, which returns a file object. You can specify the mode to open the file, such as:\n",
        "\n",
        "- `'r'`: Read mode (default)\n",
        "- `'w'`: Write mode (creates a new file if it does not exist)\n",
        "- `'a'`: Append mode (adds content to the end of the file)\n",
        "- `'b'`: Binary mode (e.g., images)\n",
        "\n",
        "Example:\n",
        "```python\n",
        "# Writing to a file\n",
        "with open('example.txt', 'w') as file:\n",
        "    file.write('Hello, world!')\n",
        "\n",
        "# Reading from a file\n",
        "with open('example.txt', 'r') as file:\n",
        "    content = file.read()\n",
        "    print(content)\n",
        "```\n",
        "The `with` statement is used to handle the file without the need to explicitly call `close()`.\n",
        "\n",
        "### Questions:\n",
        "1. How do you open a file in write mode?\n",
        "2. What is the purpose of the `'b'` mode?\n",
        "3. What is the difference between `'w'` and `'a'` modes?\n",
        "4. How can you read the entire contents of a file?\n",
        "5. What does the `with` statement do in file handling?\n",
        "6. Write a Python program to create a text file named sample.txt, write a few lines to it, and then read and display the contents.\n",
        "8. Write a program that counts the number of words in a file provided by the user.\n",
        "9. Create a program that reads a file and prints only the lines that contain a specific keyword.\n",
        "10. Write a program that copies the contents of one file to another.\n",
        "11. Write a program to append a list of items to an existing file."
      ]
    },
    {
      "cell_type": "markdown",
      "metadata": {
        "id": "By6oTli3572F"
      },
      "source": [
        "# Lambda Functions\n",
        "\n",
        "Lambda functions are small anonymous functions defined using the `lambda` keyword. They can have any number of arguments but only one expression. They are typically used when you need a simple function for a short period of time.\n",
        "\n",
        "Syntax:\n",
        "```python\n",
        "lambda arguments: expression\n",
        "```\n",
        "\n",
        "Example:\n",
        "```python\n",
        "# Lambda function to add two numbers\n",
        "add = lambda x, y: x + y\n",
        "print(add(2, 3))  # Output: 5\n",
        "```\n",
        "\n",
        "Lambda functions are often used with functions like `map()`, `filter()`, etc.\n",
        "\n",
        "### Questions:\n",
        "1. What is a lambda function?\n",
        "2. How do lambda functions differ from regular functions?\n",
        "3. Can lambda functions have more than one expression?\n",
        "4. Write a lambda function to find the square of a number.\n",
        "5. How can you use a lambda function with `map()`?\n",
        "6. Write a lambda function to multiply two numbers and test it.\n",
        "7. Create a lambda function to check if a number is even or odd.\n",
        "8. Write a lambda function that takes a list of strings and returns the lengths of those strings.\n",
        "9. Use a lambda function to sort a list of tuples by the second element.\n",
        "10. Write a lambda function that returns the maximum of two numbers."
      ]
    },
    {
      "cell_type": "markdown",
      "metadata": {
        "id": "esL744WO572G"
      },
      "source": [
        "# Map Function\n",
        "\n",
        "The `map()` function applies a given function to all items in an input list (or any iterable) and returns an iterator with the results. This is very useful when you need to perform the same operation on each element of a list.\n",
        "\n",
        "Syntax:\n",
        "```python\n",
        "map(function, iterable)\n",
        "```\n",
        "\n",
        "Example:\n",
        "```python\n",
        "# Squaring each element in a list\n",
        "numbers = [1, 2, 3, 4]\n",
        "squares = list(map(lambda x: x ** 2, numbers))\n",
        "print(squares)  # Output: [1, 4, 9, 16]\n",
        "```\n",
        "\n",
        "### Questions:\n",
        "1. What is the purpose of the `map()` function?\n",
        "2. Can `map()` work with multiple iterables?\n",
        "3. Write a `map()` function to convert a list of strings to uppercase.\n",
        "4. What is the output of `list(map(lambda x: x * 2, [1, 2, 3]))`?\n",
        "5. Can `map()` return something other than a list?\n",
        "6. Use `map()` to create a new list containing the cubes of all numbers from 1 to 10.\n",
        "7. Write a program that uses `map()` to convert a list of Celsius temperatures to Fahrenheit.\n",
        "8. Use `map()` with a lambda function to concatenate the corresponding elements of two lists of strings.\n",
        "9. Create a program that uses `map()` to convert a list of integers into their binary string representation.\n",
        "10. Use `map()` to add two lists element-wise, where both lists have the same length."
      ]
    },
    {
      "cell_type": "markdown",
      "metadata": {
        "id": "BRawYyXb572H"
      },
      "source": [
        "# Reduce Function\n",
        "\n",
        "The `reduce()` function, which is part of the `functools` module, applies a function cumulatively to the items of an iterable, from left to right, so as to reduce the iterable to a single value.\n",
        "\n",
        "Syntax:\n",
        "```python\n",
        "from functools import reduce\n",
        "reduce(function, iterable)\n",
        "```\n",
        "\n",
        "Example:\n",
        "```python\n",
        "from functools import reduce\n",
        "\n",
        "# Summing all elements in a list\n",
        "numbers = [1, 2, 3, 4]\n",
        "total = reduce(lambda x, y: x + y, numbers)\n",
        "print(total)  # Output: 10\n",
        "```\n",
        "\n",
        "### Questions:\n",
        "1. What is the purpose of the `reduce()` function?\n",
        "2. How is `reduce()` different from `map()`?\n",
        "3. Write a `reduce()` function to multiply all elements in a list.\n",
        "4. What is the output of `reduce(lambda x, y: x * y, [1, 2, 3, 4])`?\n",
        "5. Why do we need to import `functools` for `reduce()`?\n",
        "6. Use `reduce()` to find the product of all elements in a list.\n",
        "7. Write a program using `reduce()` to find the longest string in a list of strings.\n",
        "8. Use `reduce()` to find the factorial of a number `(e.g., 5!)`.\n",
        "9. Write a program that uses `reduce()` to concatenate a list of strings into a single string, separated by spaces.\n",
        "10. Use `reduce()` to find the greatest common divisor `(GCD)` of a list of numbers."
      ]
    },
    {
      "cell_type": "markdown",
      "metadata": {
        "id": "DyWwEaox572I"
      },
      "source": [
        "# Filter Function\n",
        "\n",
        "The `filter()` function is used to filter elements from an iterable based on a function that returns `True` or `False`. It returns an iterator containing only the elements that satisfy the condition.\n",
        "\n",
        "Syntax:\n",
        "```python\n",
        "filter(function, iterable)\n",
        "```\n",
        "\n",
        "Example:\n",
        "```python\n",
        "# Filtering even numbers from a list\n",
        "numbers = [1, 2, 3, 4, 5, 6]\n",
        "evens = list(filter(lambda x: x % 2 == 0, numbers))\n",
        "print(evens)  # Output: [2, 4, 6]\n",
        "```\n",
        "\n",
        "### Questions:\n",
        "1. What does the `filter()` function do?\n",
        "2. How is `filter()` different from `map()`?\n",
        "3. Write a `filter()` function to find all numbers greater than 10 in a list.\n",
        "4. What is the output of `list(filter(lambda x: x > 3, [1, 2, 3, 4, 5]))`?\n",
        "5. Can `filter()` work without a function?\n",
        "6. Write a program that uses `filter()` to find all the even numbers in a list.\n",
        "7. Use `filter()` to extract all strings from a list that have a length greater than 5.\n",
        "8. Create a program that uses `filter()` to return all elements in a list that are prime numbers.\n",
        "9. Use `filter()` to get all strings from a list that start with the letter 'A'.\n",
        "10. Write a program using `filter()` to get all numbers in a list that are divisible by both 3 and 5."
      ]
    },
    {
      "cell_type": "markdown",
      "metadata": {
        "id": "ZKKQdl_s572I"
      },
      "source": [
        "# Zip Function\n",
        "\n",
        "The `zip()` function combines two or more iterables (e.g., lists or tuples) element-wise, creating an iterator of tuples. Each tuple contains elements from the corresponding position of each iterable.\n",
        "\n",
        "Syntax:\n",
        "```python\n",
        "zip(iterable1, iterable2, ...)\n",
        "```\n",
        "\n",
        "Example:\n",
        "```python\n",
        "# Zipping two lists\n",
        "names = ['Alice', 'Bob', 'Charlie']\n",
        "ages = [25, 30, 35]\n",
        "combined = list(zip(names, ages))\n",
        "print(combined)  # Output: [('Alice', 25), ('Bob', 30), ('Charlie', 35)]\n",
        "```\n",
        "\n",
        "### Questions:\n",
        "1. What does the `zip()` function do?\n",
        "2. What happens if the iterables passed to `zip()` have different lengths?\n",
        "3. Write a `zip()` function to combine three lists.\n",
        "4. Can `zip()` be used to unzip a list of tuples?\n",
        "5. What is the output of `list(zip([1, 2], ['a', 'b']))`?\n",
        "6. Use zip() to combine two lists into a dictionary, where one list contains keys and the other contains values.\n",
        "7. Write a program that uses zip() to combine three lists (names, ages, and cities) into a list of tuples.\n",
        "8. Use zip() to add corresponding elements of two matrices represented as nested lists.\n",
        "9. Create a program using zip() that combines two lists of unequal lengths and handles the missing elements by adding None.\n",
        "10. Write a program to unzip a list of tuples into separate lists."
      ]
    }
  ],
  "metadata": {
    "kernelspec": {
      "display_name": "Python 3",
      "language": "python",
      "name": "python3"
    },
    "language_info": {
      "name": "python",
      "version": "3.8.0"
    },
    "colab": {
      "provenance": [],
      "include_colab_link": true
    }
  },
  "nbformat": 4,
  "nbformat_minor": 0
}