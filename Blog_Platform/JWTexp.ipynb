{
 "cells": [
  {
   "cell_type": "code",
   "execution_count": 15,
   "id": "ba1d98fe",
   "metadata": {},
   "outputs": [],
   "source": [
    "import jwt\n",
    "from datetime import datetime, timedelta, timezone"
   ]
  },
  {
   "cell_type": "code",
   "execution_count": null,
   "id": "45057499",
   "metadata": {},
   "outputs": [],
   "source": [
    "obj = jwt.JWT()"
   ]
  },
  {
   "cell_type": "code",
   "execution_count": 11,
   "id": "90b01c15",
   "metadata": {},
   "outputs": [],
   "source": [
    "key = jwt.jwk_from_dict({\n",
    "    \"kty\": \"oct\",\n",
    "    \"k\": \"12345678901234567890123456789012\",\n",
    "    \"alg\": \"HS256\",\n",
    "    \"use\": \"sig\",\n",
    "   })"
   ]
  },
  {
   "cell_type": "code",
   "execution_count": null,
   "id": "b27d44c1",
   "metadata": {},
   "outputs": [
    {
     "data": {
      "text/plain": [
       "1747886010.148477"
      ]
     },
     "execution_count": 66,
     "metadata": {},
     "output_type": "execute_result"
    }
   ],
   "source": []
  },
  {
   "cell_type": "code",
   "execution_count": null,
   "id": "bff65a8b",
   "metadata": {},
   "outputs": [],
   "source": [
    "enc = obj.encode(\n",
    "            {'a' : 1,\n",
    "             'b': 2, \n",
    "             'exp' : int((datetime.now(tz=timezone.utc) + timedelta(seconds=5)).timestamp())\n",
    "            },\n",
    "            key,\n",
    "            'HS256')"
   ]
  },
  {
   "cell_type": "code",
   "execution_count": 73,
   "id": "6a053617",
   "metadata": {},
   "outputs": [
    {
     "data": {
      "text/plain": [
       "{'a': 1, 'b': 2, 'exp': 1747886383}"
      ]
     },
     "execution_count": 73,
     "metadata": {},
     "output_type": "execute_result"
    }
   ],
   "source": [
    "obj.decode(enc,\n",
    "           key,\n",
    "           'HS256',)"
   ]
  },
  {
   "cell_type": "code",
   "execution_count": null,
   "id": "042bfad3",
   "metadata": {},
   "outputs": [],
   "source": []
  }
 ],
 "metadata": {
  "kernelspec": {
   "display_name": "base",
   "language": "python",
   "name": "python3"
  },
  "language_info": {
   "codemirror_mode": {
    "name": "ipython",
    "version": 3
   },
   "file_extension": ".py",
   "mimetype": "text/x-python",
   "name": "python",
   "nbconvert_exporter": "python",
   "pygments_lexer": "ipython3",
   "version": "3.11.7"
  }
 },
 "nbformat": 4,
 "nbformat_minor": 5
}
